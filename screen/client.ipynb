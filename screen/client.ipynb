{
 "cells": [
  {
   "cell_type": "code",
   "execution_count": null,
   "metadata": {},
   "outputs": [],
   "source": [
    "import requests\n",
    "from PIL import Image, ImageEnhance\n",
    "from IPython.display import display\n",
    "import io\n",
    "\n",
    "base_url = 'http://localhost:23333'\n",
    "\n",
    "def send_images(imgs):\n",
    "    response = requests.post(f\"{base_url}/upload\", files=imgs)\n",
    "    print(response.text)\n",
    "\n",
    "def reset_all():\n",
    "    requests.post(f\"{base_url}/reset\")\n"
   ]
  },
  {
   "cell_type": "code",
   "execution_count": null,
   "metadata": {},
   "outputs": [],
   "source": [
    "def imgs_from_tex_map(tex_map: Image.Image, config):\n",
    "    imgs = {}\n",
    "    for sid, left, top, right, bottom, br, rot in config:\n",
    "        part = tex_map.crop((left, top, right, bottom))\n",
    "        if rot is not None:\n",
    "            part = part.transpose(rot)\n",
    "        enhancer = ImageEnhance.Brightness(part)\n",
    "        part = enhancer.enhance(br)\n",
    "\n",
    "        w, h = part.size\n",
    "        # print(sid, w, h, w/h)\n",
    "        # display(part)\n",
    "        # part.save(f\"{name}.png\")\n",
    "\n",
    "        img_byte_arr = io.BytesIO()\n",
    "        part.save(img_byte_arr, format='PNG')\n",
    "        imgs[str(sid)] = img_byte_arr.getvalue()\n",
    "\n",
    "    return imgs"
   ]
  },
  {
   "cell_type": "code",
   "execution_count": null,
   "metadata": {},
   "outputs": [],
   "source": [
    "config = [\n",
    "    # sid, left, top, right, bottom, brt, rot\n",
    "    # left\n",
    "    ('R0', 1320, 1000, 1565, 1525, 1, None),\n",
    "    # front\n",
    "    ('L1', 1090,   45, 1358,  539, 1, None),\n",
    "    # ('L1', 1090,   45, 1358,  539, 1.6, None),\n",
    "    # top\n",
    "    ('L0', 1625,  390, 1935,  941, 1, Image.Transpose.ROTATE_90),\n",
    "    # ('L0', 1625,  390, 1935,  941, 2, Image.Transpose.ROTATE_90),\n",
    "]\n",
    "\n",
    "# bg_sid = 'L2'\n",
    "\n",
    "### 拍照\n",
    "\n",
    "sname='night0'\n",
    "\n",
    "f=f'phy/RandSM_{sname}'\n",
    "\n",
    "imgs = imgs_from_tex_map(Image.open(f'../texture/{f}.png'), config)\n",
    "\n",
    "# white = Ima\n",
    "# imgs=imgs_from_tex_map()\n",
    "# imgs[bg_sid] = Image.open('./data003.jpg')\n",
    "send_images(imgs)"
   ]
  },
  {
   "cell_type": "code",
   "execution_count": null,
   "metadata": {},
   "outputs": [],
   "source": [
    "raise"
   ]
  },
  {
   "cell_type": "code",
   "execution_count": null,
   "metadata": {},
   "outputs": [],
   "source": [
    "# import glob\n",
    "import time\n",
    "\n",
    "sname = 'snow0'\n",
    "file_list = [\n",
    "    f'phy/Rand.png',\n",
    "    f'phy/RandSM_{sname}.png',\n",
    "    f'phy/DTA.png',\n",
    "    f'phy/FCA.png',\n",
    "    f'phy/Phy_NoSM.png',\n",
    "    f'phy/Phy_{sname}.png',\n",
    "]\n",
    "\n",
    "for f in file_list:\n",
    "    print(f)\n",
    "rres = [(f, imgs_from_tex_map(Image.open('../texture/'+f), config))\n",
    "         for f in file_list]"
   ]
  },
  {
   "cell_type": "code",
   "execution_count": null,
   "metadata": {},
   "outputs": [],
   "source": [
    "for f, r in rres:\n",
    "    print(f)\n",
    "    send_images(r)\n",
    "    time.sleep(1)"
   ]
  },
  {
   "cell_type": "code",
   "execution_count": null,
   "metadata": {},
   "outputs": [],
   "source": [
    "raise"
   ]
  },
  {
   "cell_type": "code",
   "execution_count": null,
   "metadata": {},
   "outputs": [],
   "source": [
    "reset_all()"
   ]
  }
 ],
 "metadata": {
  "kernelspec": {
   "display_name": "scr",
   "language": "python",
   "name": "python3"
  },
  "language_info": {
   "codemirror_mode": {
    "name": "ipython",
    "version": 3
   },
   "file_extension": ".py",
   "mimetype": "text/x-python",
   "name": "python",
   "nbconvert_exporter": "python",
   "pygments_lexer": "ipython3",
   "version": "3.9.19"
  }
 },
 "nbformat": 4,
 "nbformat_minor": 2
}
